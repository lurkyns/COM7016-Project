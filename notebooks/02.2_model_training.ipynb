{
 "cells": [
  {
   "cell_type": "code",
   "execution_count": 2,
   "id": "dc913219",
   "metadata": {},
   "outputs": [
    {
     "name": "stdout",
     "output_type": "stream",
     "text": [
      "Columns in food_cleaned.csv: ['Description', 'Data.Sugar Total', 'Data.Carbohydrate', 'Data.Fiber', 'Data.Kilocalories', 'Data.Fat.Saturated Fat']\n",
      "Diabetic_Suitability\n",
      "1    4536\n",
      "0    2877\n",
      "Name: count, dtype: int64\n",
      "New food_labelled.csv saved!\n",
      "Training shape: (5930, 5)\n",
      "Test shape: (1483, 5)\n"
     ]
    }
   ],
   "source": [
    "import pandas as pd\n",
    "from sklearn.model_selection import train_test_split\n",
    "from sklearn.tree import DecisionTreeClassifier\n",
    "from sklearn.linear_model import LogisticRegression\n",
    "from sklearn.naive_bayes import GaussianNB\n",
    "from sklearn.metrics import accuracy_score, classification_report\n",
    "\n",
    "# Load clean data\n",
    "df = pd.read_csv(\"../data/cleaned/food_cleaned.csv\")\n",
    "\n",
    "# Columns so I know what I have\n",
    "print(\"Columns in food_cleaned.csv:\", df.columns.tolist())\n",
    "\n",
    "# Recreate Diabetic Suitability label, only keeping the columns that are relevant\n",
    "columns_to_keep = [\n",
    "    'Description',\n",
    "    'Data.Sugar Total',\n",
    "    'Data.Carbohydrate',\n",
    "    'Data.Fiber',\n",
    "    'Data.Kilocalories',\n",
    "    'Data.Fat.Saturated Fat'\n",
    "]\n",
    "df = df[columns_to_keep]\n",
    "\n",
    "# Creating the label again\n",
    "def is_suitable(row):\n",
    "    sugar = row['Data.Sugar Total']\n",
    "    carbs = row['Data.Carbohydrate']\n",
    "    sat_fat = row['Data.Fat.Saturated Fat']\n",
    "    \n",
    "    if pd.isnull(sugar) or pd.isnull(carbs) or pd.isnull(sat_fat):\n",
    "        return None\n",
    "    if sugar > 15 or carbs > 45 or sat_fat > 5:\n",
    "        return 0\n",
    "    else:\n",
    "        return 1\n",
    "\n",
    "df['Diabetic_Suitability'] = df.apply(is_suitable, axis=1)\n",
    "\n",
    "# Checking how many suitable vs not suitable\n",
    "print(df['Diabetic_Suitability'].value_counts())\n",
    "\n",
    "# New labelled saved\n",
    "df.to_csv(\"../data/cleaned/food_labelled.csv\", index=False)\n",
    "print(\"New food_labelled.csv saved!\")\n",
    "\n",
    "# Features and targets\n",
    "y = df['Diabetic_Suitability']\n",
    "X = df.drop(['Description', 'Diabetic_Suitability'], axis=1)\n",
    "\n",
    "# Train-test split\n",
    "X_train, X_test, y_train, y_test = train_test_split(\n",
    "    X, y, test_size=0.2, random_state=42\n",
    ")\n",
    "\n",
    "print(\"Training shape:\", X_train.shape)\n",
    "print(\"Test shape:\", X_test.shape)\n",
    "\n"
   ]
  },
  {
   "cell_type": "code",
   "execution_count": 3,
   "id": "d2c8b806",
   "metadata": {},
   "outputs": [
    {
     "name": "stdout",
     "output_type": "stream",
     "text": [
      "Decision Tree Accuracy: 1.0\n",
      "\n",
      "Classification Report:\n",
      "               precision    recall  f1-score   support\n",
      "\n",
      "           0       1.00      1.00      1.00       587\n",
      "           1       1.00      1.00      1.00       896\n",
      "\n",
      "    accuracy                           1.00      1483\n",
      "   macro avg       1.00      1.00      1.00      1483\n",
      "weighted avg       1.00      1.00      1.00      1483\n",
      "\n"
     ]
    }
   ],
   "source": [
    "#Decision Tree \n",
    "tree_model = DecisionTreeClassifier(random_state=42)\n",
    "tree_model.fit(X_train, y_train)\n",
    "\n",
    "y_pred_tree = tree_model.predict(X_test)\n",
    "\n",
    "print(\"Decision Tree Accuracy:\", accuracy_score(y_test, y_pred_tree))\n",
    "print(\"\\nClassification Report:\\n\", classification_report(y_test, y_pred_tree))\n"
   ]
  },
  {
   "cell_type": "code",
   "execution_count": 4,
   "id": "e58a636e",
   "metadata": {},
   "outputs": [
    {
     "name": "stdout",
     "output_type": "stream",
     "text": [
      "Logistic Regression Accuracy: 0.9291975724881996\n",
      "\n",
      "Classification Report:\n",
      "               precision    recall  f1-score   support\n",
      "\n",
      "           0       0.92      0.90      0.91       587\n",
      "           1       0.94      0.95      0.94       896\n",
      "\n",
      "    accuracy                           0.93      1483\n",
      "   macro avg       0.93      0.92      0.93      1483\n",
      "weighted avg       0.93      0.93      0.93      1483\n",
      "\n"
     ]
    }
   ],
   "source": [
    "#Logistic Regression\n",
    "log_model = LogisticRegression(max_iter=1000, random_state=42)\n",
    "log_model.fit(X_train, y_train)\n",
    "\n",
    "y_pred_log = log_model.predict(X_test)\n",
    "\n",
    "print(\"Logistic Regression Accuracy:\", accuracy_score(y_test, y_pred_log))\n",
    "print(\"\\nClassification Report:\\n\", classification_report(y_test, y_pred_log))\n"
   ]
  },
  {
   "cell_type": "code",
   "execution_count": null,
   "id": "855d3dfe",
   "metadata": {},
   "outputs": [],
   "source": []
  }
 ],
 "metadata": {
  "kernelspec": {
   "display_name": "base",
   "language": "python",
   "name": "python3"
  },
  "language_info": {
   "codemirror_mode": {
    "name": "ipython",
    "version": 3
   },
   "file_extension": ".py",
   "mimetype": "text/x-python",
   "name": "python",
   "nbconvert_exporter": "python",
   "pygments_lexer": "ipython3",
   "version": "3.12.4"
  }
 },
 "nbformat": 4,
 "nbformat_minor": 5
}
